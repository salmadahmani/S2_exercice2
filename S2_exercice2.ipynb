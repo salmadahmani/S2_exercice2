{
  "nbformat": 4,
  "nbformat_minor": 0,
  "metadata": {
    "colab": {
      "provenance": []
    },
    "kernelspec": {
      "name": "python3",
      "display_name": "Python 3"
    },
    "language_info": {
      "name": "python"
    }
  },
  "cells": [
    {
      "cell_type": "code",
      "execution_count": 11,
      "metadata": {
        "colab": {
          "base_uri": "https://localhost:8080/"
        },
        "id": "nECicIoYE8AI",
        "outputId": "4df04d0c-0a67-4315-8303-42db57582335"
      },
      "outputs": [
        {
          "output_type": "stream",
          "name": "stdout",
          "text": [
            "6.5\n",
            "1.8027756377319946\n",
            "-1.6814349698077256 cela signifie que la distribution est asymétrique à gauche\n",
            "2.1147944981086866 donc la distribution est platykrtique\n"
          ]
        }
      ],
      "source": [
        "import numpy as np\n",
        "def StaDes(list):\n",
        "  liste =np.random.randint(4,9,8) \n",
        "  return liste\n",
        "  \n",
        "moyenne_arithmetique =sum(StaDes(list))/len(StaDes(list))\n",
        "print(moyenne_arithmetique)\n",
        "A =[(x-moyenne_arithmetique)**2 for x in(StaDes(list)) ]\n",
        "variance=sum(A)/len(StaDes(list))\n",
        "Écarts_Type=np.sqrt(variance)\n",
        "print(Écarts_Type) \n",
        "B = [(x-moyenne_arithmetique)**3 /Écarts_Type for x in(StaDes(list)) ] \n",
        "coefficient_Skewness = sum(B)/len(StaDes(list)) \n",
        "if coefficient_Skewness == 0:\n",
        "  print(coefficient_Skewness ,\"cela signifie que la distribution est symétrique \")\n",
        "elif coefficient_Skewness < 0:\n",
        "  print(coefficient_Skewness,\"cela signifie que la distribution est asymétrique à gauche\")\n",
        "else:\n",
        "  print(coefficient_Skewness,\"cela signifie que la distribution est asymétrique à droite\")    \n",
        "C = [(x-moyenne_arithmetique)**4 /Écarts_Type for x in(StaDes(list)) ] \n",
        "coefficient_Kurtosis = sum(C) /len(StaDes(list)) \n",
        "if coefficient_Kurtosis == 3:\n",
        "   print(coefficient_Kurtosis,\"donc la distribution est mésokurtique(normale)\")\n",
        "elif coefficient_Kurtosis > 3:\n",
        "   print(coefficient_Kurtosis,\"donc la distribution est leptokurtique\") \n",
        "else:\n",
        " print(coefficient_Kurtosis,\"donc la distribution est platykrtique\")      "
      ]
    }
  ]
}